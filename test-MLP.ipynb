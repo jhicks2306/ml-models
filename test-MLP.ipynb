{
 "cells": [
  {
   "cell_type": "code",
   "execution_count": 1,
   "metadata": {},
   "outputs": [],
   "source": [
    "import numpy as np\n",
    "from sklearn.datasets import fetch_openml\n",
    "from sklearn.model_selection import train_test_split\n",
    "import matplotlib.pyplot as plt \n",
    "from neuralnet import NeuralNetMLP\n",
    "import seaborn as sns"
   ]
  },
  {
   "cell_type": "code",
   "execution_count": 2,
   "metadata": {},
   "outputs": [],
   "source": [
    "X, y = fetch_openml('mnist_784', version=1, return_X_y=True)"
   ]
  },
  {
   "cell_type": "code",
   "execution_count": 3,
   "metadata": {},
   "outputs": [],
   "source": [
    "X = X.values\n",
    "y = y.astype(int).values"
   ]
  },
  {
   "cell_type": "code",
   "execution_count": 4,
   "metadata": {},
   "outputs": [
    {
     "name": "stdout",
     "output_type": "stream",
     "text": [
      "(70000, 784)\n",
      "(70000,)\n"
     ]
    }
   ],
   "source": [
    "print(X.shape)\n",
    "print(y.shape)"
   ]
  },
  {
   "cell_type": "code",
   "execution_count": 5,
   "metadata": {},
   "outputs": [
    {
     "data": {
      "text/plain": [
       "array([0, 1, 2, 3, 4, 5, 6, 7, 8, 9])"
      ]
     },
     "execution_count": 5,
     "metadata": {},
     "output_type": "execute_result"
    }
   ],
   "source": [
    "np.unique(y)"
   ]
  },
  {
   "cell_type": "code",
   "execution_count": 6,
   "metadata": {},
   "outputs": [],
   "source": [
    "# Normalize X pixel values to between -1 and 1.\n",
    "X = ((X/ 255.)) - .5 * 2"
   ]
  },
  {
   "cell_type": "code",
   "execution_count": 7,
   "metadata": {},
   "outputs": [
    {
     "data": {
      "image/png": "[encoded data removed]",
      "text/plain": [
       "<Figure size 640x480 with 10 Axes>"
      ]
     },
     "metadata": {},
     "output_type": "display_data"
    }
   ],
   "source": [
    "# Plot images\n",
    "fig, ax = plt.subplots(nrows=2, ncols=5, sharex=True, sharey=True)\n",
    "\n",
    "ax = ax.flatten()\n",
    "\n",
    "for i in range(10):\n",
    "    img = X[y == i][0].reshape(28,28) # get first example of each digit and reshape\n",
    "    ax[i].imshow(img, cmap='Greys')\n",
    "\n",
    "ax[0].set_xticks([])\n",
    "ax[0].set_yticks([])\n",
    "plt.tight_layout()\n",
    "    "
   ]
  },
  {
   "cell_type": "code",
   "execution_count": 8,
   "metadata": {},
   "outputs": [],
   "source": [
    "X_temp, X_test, y_temp, y_test = train_test_split(\n",
    "    X, y, test_size=10000, random_state=123, stratify=y\n",
    ")\n",
    "X_train, X_valid, y_train, y_valid = train_test_split(\n",
    "    X_temp, y_temp, test_size=5000, random_state=123, stratify=y_temp\n",
    ")"
   ]
  },
  {
   "cell_type": "code",
   "execution_count": 14,
   "metadata": {},
   "outputs": [],
   "source": [
    "def int_to_onehot(y, num_labels):\n",
    "    # Converts vector y with n_labels into matrix of shape (len(y), num_labels)\n",
    "    arr = np.zeros((y.shape[0], num_labels))\n",
    "    for idx, val in enumerate(y):\n",
    "        arr[idx, val] = 1\n",
    "    return arr"
   ]
  },
  {
   "cell_type": "markdown",
   "metadata": {},
   "source": [
    "## Neural network training loop"
   ]
  },
  {
   "cell_type": "code",
   "execution_count": 10,
   "metadata": {},
   "outputs": [],
   "source": [
    "n_epochs = 50\n",
    "minibatch_size = 100"
   ]
  },
  {
   "cell_type": "code",
   "execution_count": 13,
   "metadata": {},
   "outputs": [],
   "source": [
    "model = NeuralNetMLP(n_features=28*28,\n",
    "                     n_hidden=50,\n",
    "                     n_classes=10)"
   ]
  },
  {
   "cell_type": "code",
   "execution_count": 11,
   "metadata": {},
   "outputs": [],
   "source": [
    "def minibatch_generator(X, y, minibatch_size):\n",
    "    '''\n",
    "    Generate a batch of size 'minibatch_size' from X and y.\n",
    "    '''\n",
    "    indices = np.arange(X.shape[0])\n",
    "    np.random.shuffle(indices)\n",
    "    for start_idx in range(0, indices.shape[0] - minibatch_size + 1,\n",
    "                           minibatch_size):\n",
    "        batch_idxs = indices[start_idx:start_idx + minibatch_size]\n",
    "        yield X[batch_idxs], y[batch_idxs]"
   ]
  },
  {
   "cell_type": "code",
   "execution_count": 12,
   "metadata": {},
   "outputs": [
    {
     "name": "stdout",
     "output_type": "stream",
     "text": [
      "(100, 784)\n",
      "(100,)\n"
     ]
    }
   ],
   "source": [
    "# Iterate over training epochs\n",
    "for i in range(n_epochs):\n",
    "    # Iterate over minibatches.\n",
    "    minibatch_gen = minibatch_generator(\n",
    "        X_train, y_train, minibatch_size)\n",
    "    for X_train_mini, y_train_mini in minibatch_gen:\n",
    "        break # Breaks just to test that minibatches are being created in the correct size.\n",
    "    break\n",
    "print(X_train_mini.shape)\n",
    "print(y_train_mini.shape)"
   ]
  },
  {
   "cell_type": "code",
   "execution_count": 15,
   "metadata": {},
   "outputs": [],
   "source": [
    "# Define functions for the loss and accuracy.\n",
    "def mse_loss(targets, probas, n_labels=10):\n",
    "    onehot_targets = int_to_onehot(\n",
    "        targets, n_labels\n",
    "    )\n",
    "    return np.mean((onehot_targets - probas)**2)\n",
    "\n",
    "def accuracy(targets, preds):\n",
    "    return np.mean(preds == targets)"
   ]
  },
  {
   "cell_type": "code",
   "execution_count": 17,
   "metadata": {},
   "outputs": [
    {
     "name": "stdout",
     "output_type": "stream",
     "text": [
      "Initial validation MSE: 0.3\n",
      "Initial validation accuracy:  9.9%\n"
     ]
    }
   ],
   "source": [
    "# Test functions with an initial forward pass.\n",
    "_, probas = model.forward(X_valid)\n",
    "mse = mse_loss(y_valid, probas)\n",
    "print(f'Initial validation MSE: {mse:.1f}')\n",
    "\n",
    "predicted_labels = np.argmax(probas, axis=1)\n",
    "acc = accuracy(y_valid, predicted_labels)\n",
    "print(f'Initial validation accuracy: {acc*100: .1f}%')"
   ]
  },
  {
   "cell_type": "code",
   "execution_count": 18,
   "metadata": {},
   "outputs": [],
   "source": [
    "def compute_mse_and_acc(nnet, X, y, n_labels=10, minibatch_size=100):\n",
    "    '''\n",
    "    Computes MSE and accuracy on minibatches of samples, X. Return the totals across minimbatches.\n",
    "    '''\n",
    "    mse, correct_preds, n_examples = 0., 0, 0\n",
    "    minibatch_gen = minibatch_generator(X, y, minibatch_size)\n",
    "    for i, (features, targets) in enumerate(minibatch_gen):\n",
    "        _, probas = nnet.forward(features)\n",
    "        predicted_labels = np.argmax(probas, axis=1)\n",
    "        onehot_targets = int_to_onehot(targets, n_labels)\n",
    "        loss = np.mean((onehot_targets - probas)**2)\n",
    "        correct_preds += (predicted_labels == targets).sum()\n",
    "        n_examples += targets.shape[0]\n",
    "        mse += loss\n",
    "    mse = mse/i\n",
    "    acc = correct_preds/ n_examples\n",
    "    return mse, acc"
   ]
  },
  {
   "cell_type": "code",
   "execution_count": 19,
   "metadata": {},
   "outputs": [
    {
     "name": "stdout",
     "output_type": "stream",
     "text": [
      "Initial validation MSE: 0.3\n",
      "Initial validation accuracy:  9.9%\n"
     ]
    }
   ],
   "source": [
    "mse, acc = compute_mse_and_acc(model, X_valid, y_valid)\n",
    "print(f'Initial validation MSE: {mse:.1f}')\n",
    "print(f'Initial validation accuracy: {acc*100: .1f}%')"
   ]
  },
  {
   "cell_type": "code",
   "execution_count": 20,
   "metadata": {},
   "outputs": [
    {
     "name": "stdout",
     "output_type": "stream",
     "text": [
      "\u001b[0;31mInit signature:\u001b[0m \u001b[0mrange\u001b[0m\u001b[0;34m(\u001b[0m\u001b[0mself\u001b[0m\u001b[0;34m,\u001b[0m \u001b[0;34m/\u001b[0m\u001b[0;34m,\u001b[0m \u001b[0;34m*\u001b[0m\u001b[0margs\u001b[0m\u001b[0;34m,\u001b[0m \u001b[0;34m**\u001b[0m\u001b[0mkwargs\u001b[0m\u001b[0;34m)\u001b[0m\u001b[0;34m\u001b[0m\u001b[0;34m\u001b[0m\u001b[0m\n",
      "\u001b[0;31mDocstring:\u001b[0m     \n",
      "range(stop) -> range object\n",
      "range(start, stop[, step]) -> range object\n",
      "\n",
      "Return an object that produces a sequence of integers from start (inclusive)\n",
      "to stop (exclusive) by step.  range(i, j) produces i, i+1, i+2, ..., j-1.\n",
      "start defaults to 0, and stop is omitted!  range(4) produces 0, 1, 2, 3.\n",
      "These are exactly the valid indices for a list of 4 elements.\n",
      "When step is given, it specifies the increment (or decrement).\n",
      "\u001b[0;31mType:\u001b[0m           type\n",
      "\u001b[0;31mSubclasses:\u001b[0m     "
     ]
    }
   ],
   "source": [
    "range?"
   ]
  },
  {
   "cell_type": "code",
   "execution_count": 23,
   "metadata": {},
   "outputs": [],
   "source": [
    "def train(model, X_train, y_train, X_valid, y_valid, n_epochs, lr=0.1):\n",
    "    epoch_loss = []\n",
    "    epoch_train_acc = []\n",
    "    epoch_valid_acc = []\n",
    "\n",
    "    for e in range(n_epochs):\n",
    "        # Iterate over minibatches\n",
    "        minibatch_gen = minibatch_generator(X_train, y_train, minibatch_size)\n",
    "        for X_train_mini, y_train_mini in minibatch_gen:\n",
    "\n",
    "            ### Compute Outputs ###\n",
    "            a_h, a_out = model.forward(X_train_mini)\n",
    "\n",
    "            ### Compute Gradients ###\n",
    "            dLoss_dw_out, dLoss_db_out, dLoss_dw_h, dLoss_db_h = \\\n",
    "            model.backward(X_train_mini, a_h, a_out, y_train_mini)\n",
    "\n",
    "            ### Update Gradients ###\n",
    "            model.w_h -= lr * dLoss_dw_h\n",
    "            model.b_h -= lr * dLoss_db_h\n",
    "            model.w_out -= lr * dLoss_dw_out\n",
    "            model.b_out -= lr * dLoss_db_out\n",
    "    \n",
    "        ### Epoch Logging ###\n",
    "        train_mse, train_acc = compute_mse_and_acc(model, X_train, y_train)\n",
    "        valid_mse, valid_acc = compute_mse_and_acc(model, X_valid, y_valid)\n",
    "        train_acc, valid_acc = train_acc*100, valid_acc*100\n",
    "\n",
    "        epoch_train_acc.append(train_acc)\n",
    "        epoch_valid_acc.append(valid_acc)\n",
    "        epoch_loss.append(train_mse)\n",
    "        print(f'Epoch: {e+1:}/{n_epochs} '\n",
    "              f'| Train MSE: {train_mse:.2f}'\n",
    "              f'| Train Acc: {train_acc:.2f}'\n",
    "              f'| Valid Acc: {valid_acc:.2f}')\n",
    "    \n",
    "    return epoch_loss, epoch_train_acc, epoch_valid_acc"
   ]
  },
  {
   "cell_type": "code",
   "execution_count": 24,
   "metadata": {},
   "outputs": [
    {
     "name": "stdout",
     "output_type": "stream",
     "text": [
      "Epoch: 1/50 | Train MSE: 0.08| Train Acc: 41.64| Valid Acc: 41.48\n",
      "Epoch: 2/50 | Train MSE: 0.05| Train Acc: 71.31| Valid Acc: 71.00\n",
      "Epoch: 3/50 | Train MSE: 0.04| Train Acc: 82.20| Valid Acc: 82.24\n",
      "Epoch: 4/50 | Train MSE: 0.03| Train Acc: 85.78| Valid Acc: 85.88\n",
      "Epoch: 5/50 | Train MSE: 0.03| Train Acc: 87.39| Valid Acc: 87.52\n",
      "Epoch: 6/50 | Train MSE: 0.02| Train Acc: 88.29| Valid Acc: 88.62\n",
      "Epoch: 7/50 | Train MSE: 0.02| Train Acc: 88.83| Valid Acc: 89.06\n",
      "Epoch: 8/50 | Train MSE: 0.02| Train Acc: 89.20| Valid Acc: 89.34\n",
      "Epoch: 9/50 | Train MSE: 0.02| Train Acc: 89.82| Valid Acc: 89.90\n",
      "Epoch: 10/50 | Train MSE: 0.02| Train Acc: 90.15| Valid Acc: 90.18\n",
      "Epoch: 11/50 | Train MSE: 0.02| Train Acc: 90.49| Valid Acc: 90.88\n",
      "Epoch: 12/50 | Train MSE: 0.02| Train Acc: 90.74| Valid Acc: 90.96\n",
      "Epoch: 13/50 | Train MSE: 0.02| Train Acc: 90.76| Valid Acc: 90.88\n",
      "Epoch: 14/50 | Train MSE: 0.02| Train Acc: 91.10| Valid Acc: 91.24\n",
      "Epoch: 15/50 | Train MSE: 0.02| Train Acc: 91.16| Valid Acc: 91.32\n",
      "Epoch: 16/50 | Train MSE: 0.02| Train Acc: 91.34| Valid Acc: 91.44\n",
      "Epoch: 17/50 | Train MSE: 0.02| Train Acc: 91.52| Valid Acc: 91.44\n",
      "Epoch: 18/50 | Train MSE: 0.01| Train Acc: 91.65| Valid Acc: 91.68\n",
      "Epoch: 19/50 | Train MSE: 0.01| Train Acc: 91.61| Valid Acc: 91.60\n",
      "Epoch: 20/50 | Train MSE: 0.01| Train Acc: 91.94| Valid Acc: 91.68\n",
      "Epoch: 21/50 | Train MSE: 0.01| Train Acc: 91.86| Valid Acc: 91.86\n",
      "Epoch: 22/50 | Train MSE: 0.01| Train Acc: 92.12| Valid Acc: 91.94\n",
      "Epoch: 23/50 | Train MSE: 0.01| Train Acc: 92.23| Valid Acc: 91.98\n",
      "Epoch: 24/50 | Train MSE: 0.01| Train Acc: 92.27| Valid Acc: 91.82\n",
      "Epoch: 25/50 | Train MSE: 0.01| Train Acc: 92.31| Valid Acc: 92.18\n",
      "Epoch: 26/50 | Train MSE: 0.01| Train Acc: 92.49| Valid Acc: 92.32\n",
      "Epoch: 27/50 | Train MSE: 0.01| Train Acc: 92.55| Valid Acc: 92.38\n",
      "Epoch: 28/50 | Train MSE: 0.01| Train Acc: 92.71| Valid Acc: 92.56\n",
      "Epoch: 29/50 | Train MSE: 0.01| Train Acc: 92.74| Valid Acc: 92.46\n",
      "Epoch: 30/50 | Train MSE: 0.01| Train Acc: 92.85| Valid Acc: 92.48\n",
      "Epoch: 31/50 | Train MSE: 0.01| Train Acc: 92.99| Valid Acc: 92.68\n",
      "Epoch: 32/50 | Train MSE: 0.01| Train Acc: 92.96| Valid Acc: 92.70\n",
      "Epoch: 33/50 | Train MSE: 0.01| Train Acc: 93.08| Valid Acc: 92.74\n",
      "Epoch: 34/50 | Train MSE: 0.01| Train Acc: 93.07| Valid Acc: 92.84\n",
      "Epoch: 35/50 | Train MSE: 0.01| Train Acc: 93.14| Valid Acc: 92.94\n",
      "Epoch: 36/50 | Train MSE: 0.01| Train Acc: 93.28| Valid Acc: 93.06\n",
      "Epoch: 37/50 | Train MSE: 0.01| Train Acc: 93.33| Valid Acc: 92.80\n",
      "Epoch: 38/50 | Train MSE: 0.01| Train Acc: 93.49| Valid Acc: 93.12\n",
      "Epoch: 39/50 | Train MSE: 0.01| Train Acc: 93.52| Valid Acc: 93.18\n",
      "Epoch: 40/50 | Train MSE: 0.01| Train Acc: 93.53| Valid Acc: 93.20\n",
      "Epoch: 41/50 | Train MSE: 0.01| Train Acc: 93.60| Valid Acc: 93.24\n",
      "Epoch: 42/50 | Train MSE: 0.01| Train Acc: 93.70| Valid Acc: 93.42\n",
      "Epoch: 43/50 | Train MSE: 0.01| Train Acc: 93.73| Valid Acc: 93.40\n",
      "Epoch: 44/50 | Train MSE: 0.01| Train Acc: 93.77| Valid Acc: 93.28\n",
      "Epoch: 45/50 | Train MSE: 0.01| Train Acc: 93.85| Valid Acc: 93.42\n",
      "Epoch: 46/50 | Train MSE: 0.01| Train Acc: 93.87| Valid Acc: 93.40\n",
      "Epoch: 47/50 | Train MSE: 0.01| Train Acc: 93.93| Valid Acc: 93.64\n",
      "Epoch: 48/50 | Train MSE: 0.01| Train Acc: 94.00| Valid Acc: 93.54\n",
      "Epoch: 49/50 | Train MSE: 0.01| Train Acc: 93.99| Valid Acc: 93.38\n",
      "Epoch: 50/50 | Train MSE: 0.01| Train Acc: 93.98| Valid Acc: 93.44\n"
     ]
    }
   ],
   "source": [
    "np.random.seed(123)\n",
    "epoch_loss, epoch_train_acc, epoch_valid_acc = \\\n",
    "train(model, X_train, y_train, X_valid, y_valid, n_epochs=50, lr=0.1)"
   ]
  },
  {
   "cell_type": "code",
   "execution_count": 26,
   "metadata": {},
   "outputs": [
    {
     "data": {
      "image/png": "[encoded data removed]",
      "text/plain": [
       "<Figure size 640x480 with 1 Axes>"
      ]
     },
     "metadata": {},
     "output_type": "display_data"
    }
   ],
   "source": [
    "# Plot training loss\n",
    "plt.plot(range(len(epoch_loss)), epoch_loss)\n",
    "plt.ylabel('Mean Squared Error')\n",
    "plt.xlabel('Epoch')\n",
    "plt.show()"
   ]
  },
  {
   "cell_type": "code",
   "execution_count": 28,
   "metadata": {},
   "outputs": [
    {
     "data": {
      "image/png": "[encoded data removed]",
      "text/plain": [
       "<Figure size 640x480 with 1 Axes>"
      ]
     },
     "metadata": {},
     "output_type": "display_data"
    }
   ],
   "source": [
    "# Plot training and validation accuracy\n",
    "plt.plot(range(len(epoch_train_acc)), epoch_train_acc, label='Training')\n",
    "plt.plot(range(len(epoch_valid_acc)), epoch_valid_acc, label='Validation')\n",
    "plt.ylabel('Accuracy')\n",
    "plt.xlabel('Epochs')\n",
    "plt.legend(loc='lower right')\n",
    "plt.show()"
   ]
  },
  {
   "cell_type": "code",
   "execution_count": 29,
   "metadata": {},
   "outputs": [
    {
     "name": "stdout",
     "output_type": "stream",
     "text": [
      "Test accuracy: 93.42%\n"
     ]
    }
   ],
   "source": [
    "# Evaluation generalization performance on the test set.\n",
    "test_mse, test_acc = compute_mse_and_acc(model, X_test, y_test)\n",
    "print(f'Test accuracy: {test_acc*100:.2f}%')"
   ]
  },
  {
   "cell_type": "code",
   "execution_count": null,
   "metadata": {},
   "outputs": [],
   "source": []
  }
 ],
 "metadata": {
  "kernelspec": {
   "display_name": ".venv",
   "language": "python",
   "name": "python3"
  },
  "language_info": {
   "codemirror_mode": {
    "name": "ipython",
    "version": 3
   },
   "file_extension": ".py",
   "mimetype": "text/x-python",
   "name": "python",
   "nbconvert_exporter": "python",
   "pygments_lexer": "ipython3",
   "version": "3.11.7"
  }
 },
 "nbformat": 4,
 "nbformat_minor": 2
}
